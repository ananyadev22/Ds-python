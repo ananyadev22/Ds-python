{
 "cells": [
  {
   "cell_type": "markdown",
   "id": "fb711fda-a65e-45b8-808f-9ff8d319ab1d",
   "metadata": {},
   "source": [
    "# My first python program\n"
   ]
  },
  {
   "cell_type": "code",
   "execution_count": 14,
   "id": "6aba31c3-9daa-4927-944b-31924d676b16",
   "metadata": {},
   "outputs": [],
   "source": [
    "## Basic maths ops"
   ]
  },
  {
   "cell_type": "code",
   "execution_count": 6,
   "id": "4f7996bb-fe58-4980-a2ab-cc220027cec8",
   "metadata": {},
   "outputs": [
    {
     "name": "stdout",
     "output_type": "stream",
     "text": [
      "55\n"
     ]
    }
   ],
   "source": [
    "a=25\n",
    "b=30\n",
    "#c=a+b\n",
    "print(a+b)\n"
   ]
  },
  {
   "cell_type": "code",
   "execution_count": 10,
   "id": "c1c900d1-6300-4216-b7e6-db733204818c",
   "metadata": {},
   "outputs": [
    {
     "name": "stdout",
     "output_type": "stream",
     "text": [
      "8\n",
      "-1\n",
      "6\n"
     ]
    }
   ],
   "source": [
    "a=2\n",
    "b=3\n",
    "#c=a+b\n",
    "print(a**b)\n",
    "c=a-b\n",
    "print(c)\n",
    "d=a*b\n",
    "print(d)"
   ]
  },
  {
   "cell_type": "code",
   "execution_count": 15,
   "id": "0fb7e735-47de-44a2-b928-a77d46bbf720",
   "metadata": {},
   "outputs": [
    {
     "name": "stdout",
     "output_type": "stream",
     "text": [
      "25\n"
     ]
    }
   ],
   "source": [
    "delk=25\n",
    "print(delk)"
   ]
  },
  {
   "cell_type": "code",
   "execution_count": 16,
   "id": "c05f57d9-0de2-4d5e-aa4c-b432527e4e00",
   "metadata": {},
   "outputs": [
    {
     "name": "stdin",
     "output_type": "stream",
     "text": [
      "Who are you?  Ananya\n"
     ]
    },
    {
     "name": "stdout",
     "output_type": "stream",
     "text": [
      "welcome Ananya\n"
     ]
    }
   ],
   "source": [
    "nam=input ('Who are you? ')\n",
    "print('welcome',nam )\n"
   ]
  },
  {
   "cell_type": "code",
   "execution_count": 23,
   "id": "091ae417-3b11-425b-aceb-55d926634515",
   "metadata": {},
   "outputs": [
    {
     "name": "stdin",
     "output_type": "stream",
     "text": [
      "europe floor? 76\n"
     ]
    },
    {
     "name": "stdout",
     "output_type": "stream",
     "text": [
      "us floor  77\n"
     ]
    }
   ],
   "source": [
    "inp = input('europe floor?')\n",
    "usf=int(inp) +1\n",
    "print('us floor ',usf)\n",
    "\n"
   ]
  },
  {
   "cell_type": "code",
   "execution_count": 18,
   "id": "f4764900-602f-44b3-809c-fb4c48d0e91f",
   "metadata": {},
   "outputs": [
    {
     "name": "stdin",
     "output_type": "stream",
     "text": [
      "enter a value 23\n"
     ]
    },
    {
     "name": "stdout",
     "output_type": "stream",
     "text": [
      "23\n"
     ]
    },
    {
     "data": {
      "text/plain": [
       "str"
      ]
     },
     "execution_count": 18,
     "metadata": {},
     "output_type": "execute_result"
    }
   ],
   "source": [
    "ind=input('enter a value')\n",
    "print(ind)\n",
    "type(ind)"
   ]
  },
  {
   "cell_type": "code",
   "execution_count": 9,
   "id": "0421a864-93fe-4396-9cba-5fa778257f25",
   "metadata": {},
   "outputs": [
    {
     "name": "stdout",
     "output_type": "stream",
     "text": [
      "smaller\n",
      "finish\n"
     ]
    }
   ],
   "source": [
    "x=5\n",
    "if x<10:\n",
    "    print('smaller')\n",
    "if x>20:\n",
    "    print('bigger')\n",
    "    \n",
    "print('finish')\n"
   ]
  },
  {
   "cell_type": "code",
   "execution_count": 11,
   "id": "207126bf-ec2b-4122-9520-6dc428097a9a",
   "metadata": {},
   "outputs": [
    {
     "name": "stdout",
     "output_type": "stream",
     "text": [
      "equal\n",
      "greater than 4\n",
      "greater than 5 and equal to 5\n",
      "less than 6\n",
      "less than 5 or equal to 5\n",
      " not equal to 6\n"
     ]
    }
   ],
   "source": [
    "x=5\n",
    "if x==5:\n",
    "    print('equal')\n",
    "    if x>4 :\n",
    "        print('greater than 4')\n",
    "        if x>=5:\n",
    "            print('greater than 5 and equal to 5')\n",
    "            if x<6 :\n",
    "                print('less than 6')\n",
    "                if  x<=5 :\n",
    "                    print('less than 5 or equal to 5')\n",
    "                    if x!=6:\n",
    "                        print(' not equal to 6')"
   ]
  },
  {
   "cell_type": "code",
   "execution_count": 22,
   "id": "83f5ed47-dc71-42de-947f-f06454d26638",
   "metadata": {},
   "outputs": [
    {
     "ename": "IndentationError",
     "evalue": "unindent does not match any outer indentation level (<string>, line 5)",
     "output_type": "error",
     "traceback": [
      "  \u001b[36mFile \u001b[39m\u001b[32m<string>:5\u001b[39m\n\u001b[31m    \u001b[39m\u001b[31mprint('still 5')\u001b[39m\n                    ^\n\u001b[31mIndentationError\u001b[39m\u001b[31m:\u001b[39m unindent does not match any outer indentation level\n"
     ]
    }
   ],
   "source": [
    "x=5\n",
    "if x==5:\n",
    "     print('is 5')\n",
    "    \n",
    " print('still 5')\n",
    "print('third 5')"
   ]
  },
  {
   "cell_type": "code",
   "execution_count": 15,
   "id": "6dc5c12e-2f5b-49bd-96d8-b35d06ae46b3",
   "metadata": {},
   "outputs": [
    {
     "name": "stdout",
     "output_type": "stream",
     "text": [
      "more than one\n",
      "less than 100\n",
      "all done\n"
     ]
    }
   ],
   "source": [
    "#NESTED DECISION\n",
    "x=45\n",
    "if x>1:\n",
    "    print('more than one')\n",
    "    if x<100:\n",
    "        print('less than 100')\n",
    "print('all done')"
   ]
  },
  {
   "cell_type": "code",
   "execution_count": 21,
   "id": "3f98f017-c9d1-4b0b-9058-dd5a6980ec94",
   "metadata": {},
   "outputs": [],
   "source": [
    "#TWO WAY DECISIONS"
   ]
  },
  {
   "cell_type": "code",
   "execution_count": 29,
   "id": "19359992-d337-4b5f-ac5e-2e625d8769f1",
   "metadata": {},
   "outputs": [
    {
     "name": "stdout",
     "output_type": "stream",
     "text": [
      "smaller\n",
      "all done\n"
     ]
    }
   ],
   "source": [
    "x=4\n",
    "if x<10:\n",
    "    print('smaller')\n",
    "else:\n",
    "    print('bigger')\n",
    "print('all done')\n"
   ]
  },
  {
   "cell_type": "code",
   "execution_count": 32,
   "id": "8a5224b8-e8dd-4ce1-96a9-3de5eabf7f05",
   "metadata": {},
   "outputs": [
    {
     "name": "stdout",
     "output_type": "stream",
     "text": [
      "small\n",
      "all done\n"
     ]
    }
   ],
   "source": [
    "x=0\n",
    "if x<2:\n",
    "    print('small')\n",
    "elif x<10:\n",
    "    print('medium')\n",
    "else:\n",
    "    print('large')\n",
    "print('all done')\n"
   ]
  },
  {
   "cell_type": "code",
   "execution_count": 51,
   "id": "a8764197-cb15-4a69-a8f1-1d6198c46542",
   "metadata": {},
   "outputs": [
    {
     "name": "stdout",
     "output_type": "stream",
     "text": [
      "first -1\n",
      "second 123\n"
     ]
    }
   ],
   "source": [
    "astr ='hello bob'\n",
    "try:\n",
    "  istr = int(astr)\n",
    "except:\n",
    "    istr =-1\n",
    "print('first',istr)\n",
    "\n",
    "astr ='123'\n",
    "try:\n",
    "  istr= int(astr) \n",
    "except:\n",
    "   istr =-1\n",
    "print('second',istr)"
   ]
  },
  {
   "cell_type": "code",
   "execution_count": 38,
   "id": "55e1766d-1d09-43ec-ac49-2cecc076eac6",
   "metadata": {},
   "outputs": [
    {
     "name": "stdout",
     "output_type": "stream",
     "text": [
      "hello\n",
      "done -1\n"
     ]
    }
   ],
   "source": [
    "astr = 'bob'\n",
    "try:\n",
    "    print('hello')\n",
    "    istr=int(astr)\n",
    "    print('there')\n",
    "except:\n",
    "    istr =-1\n",
    "    print('done',istr)"
   ]
  },
  {
   "cell_type": "code",
   "execution_count": 13,
   "id": "595cf450-6e8e-417c-92c4-72323d97f1ca",
   "metadata": {},
   "outputs": [
    {
     "name": "stdin",
     "output_type": "stream",
     "text": [
      "enter a no: 87\n"
     ]
    },
    {
     "name": "stdout",
     "output_type": "stream",
     "text": [
      "nice work\n"
     ]
    }
   ],
   "source": [
    "rawstr=input('enter a no:')\n",
    "try:\n",
    "    ival= int(rawstr)\n",
    "except:\n",
    "    ival=-1\n",
    "if ival>0:\n",
    "    print('nice work')\n",
    "else:\n",
    " print('not a no')"
   ]
  },
  {
   "cell_type": "code",
   "execution_count": null,
   "id": "e3be9e2b-6b1b-44ce-b1ff-82df746a9d6d",
   "metadata": {},
   "outputs": [],
   "source": [
    "import pandas as pd\n",
    "#url=\"https:||raw.githubusercontent.com|cs109|2014_data|master|countries.csv\"c\n",
    "url=\"https:||raw.githubusercontent.com|cs109"
   ]
  },
  {
   "cell_type": "code",
   "execution_count": 42,
   "id": "5f144184-bcb1-4887-be1a-e4a578189cd0",
   "metadata": {},
   "outputs": [
    {
     "ename": "SyntaxError",
     "evalue": "unterminated string literal (detected at line 3) (2494387211.py, line 3)",
     "output_type": "error",
     "traceback": [
      "  \u001b[36mCell\u001b[39m\u001b[36m \u001b[39m\u001b[32mIn[42]\u001b[39m\u001b[32m, line 3\u001b[39m\n\u001b[31m    \u001b[39m\u001b[31mline =input(\")\u001b[39m\n                ^\n\u001b[31mSyntaxError\u001b[39m\u001b[31m:\u001b[39m unterminated string literal (detected at line 3)\n"
     ]
    }
   ],
   "source": [
    "counts=diet()\n",
    "print('enter a line of text:')\n",
    "line =input(\")\n",
    "words=line.split()\n",
    "print('words:',words)\n",
    "print('counting...') \n",
    "for word in words:\n",
    "counts[word]=counts.get(word.0)+1\n",
    "print('counts',counts)\n",
    "strl='123'\n",
    "str2=\n",
    "\n",
    "\n",
    "\n",
    "\n",
    "           "
   ]
  },
  {
   "cell_type": "code",
   "execution_count": 41,
   "id": "33b608ee-38b3-4b82-8031-fc5c177b915d",
   "metadata": {},
   "outputs": [
    {
     "ename": "IndentationError",
     "evalue": "expected an indented block after 'for' statement on line 8 (2149855384.py, line 9)",
     "output_type": "error",
     "traceback": [
      "  \u001b[36mCell\u001b[39m\u001b[36m \u001b[39m\u001b[32mIn[41]\u001b[39m\u001b[32m, line 9\u001b[39m\n\u001b[31m    \u001b[39m\u001b[31mcounts[word]=counts.get(word.0)+1\u001b[39m\n    ^\n\u001b[31mIndentationError\u001b[39m\u001b[31m:\u001b[39m expected an indented block after 'for' statement on line 8\n"
     ]
    }
   ],
   "source": [
    "counts=diet()\n",
    "print('enter a line of text:')\n",
    "line =input(\")\n",
    "word=line.split()\n",
    "print('words:',words)\n",
    "print('counting...')\n",
    "\n",
    "forword in words:\n",
    "counts[word]=counts.get(word.0)+1\n",
    "print('counts',counts)\n",
    "\n",
    "           "
   ]
  },
  {
   "cell_type": "code",
   "execution_count": null,
   "id": "abf2cf37-863a-41a0-9268-f491d2312e11",
   "metadata": {},
   "outputs": [],
   "source": [
    "count=diet()\n",
    "print('enter a line of text: ')\n",
    "line=input(\")\n",
    " words=line.split()\n",
    " print('words:',words)\n",
    "         print('a')\n",
    "\n",
    "        for word in words:\n",
    "        counts[word]=counts.get(word.0)+1\n",
    "\n",
    "\n",
    "\n",
    "\n",
    "  \n",
    " "
   ]
  },
  {
   "cell_type": "code",
   "execution_count": 6,
   "id": "47d05a31-c69e-4e19-8170-2ab73532b6b5",
   "metadata": {},
   "outputs": [
    {
     "ename": "IndentationError",
     "evalue": "expected an indented block after 'if' statement on line 11 (2473403270.py, line 12)",
     "output_type": "error",
     "traceback": [
      "  \u001b[36mCell\u001b[39m\u001b[36m \u001b[39m\u001b[32mIn[6]\u001b[39m\u001b[32m, line 12\u001b[39m\n\u001b[31m    \u001b[39m\u001b[31mifratev>0:\u001b[39m\n    ^\n\u001b[31mIndentationError\u001b[39m\u001b[31m:\u001b[39m expected an indented block after 'if' statement on line 11\n"
     ]
    }
   ],
   "source": [
    "hv=input(' enter hours')\n",
    "rate =input('enter rate')\n",
    "try:\n",
    "    hvv=int(hv)\n",
    "    ratev=nt(rate)\n",
    "except:\n",
    "\n",
    "    hvv=-1\n",
    "    ratev=-1\n",
    "    \n",
    "if hvv >0:\n",
    "    if ratev>0:\n",
    "    pay=hvv*ratev\n",
    "    print(pay)"
   ]
  },
  {
   "cell_type": "code",
   "execution_count": 8,
   "id": "2e1ec139-dd5d-400f-825b-5707f5077781",
   "metadata": {},
   "outputs": [
    {
     "ename": "AttributeError",
     "evalue": "module 'pandas' has no attribute 'dataframe'",
     "output_type": "error",
     "traceback": [
      "\u001b[31m---------------------------------------------------------------------------\u001b[39m",
      "\u001b[31mAttributeError\u001b[39m                            Traceback (most recent call last)",
      "\u001b[36mCell\u001b[39m\u001b[36m \u001b[39m\u001b[32mIn[8]\u001b[39m\u001b[32m, line 7\u001b[39m\n\u001b[32m      1\u001b[39m \u001b[38;5;28;01mimport\u001b[39;00m\u001b[38;5;250m \u001b[39m\u001b[34;01mpandas\u001b[39;00m\u001b[38;5;250m \u001b[39m\u001b[38;5;28;01mas\u001b[39;00m\u001b[38;5;250m \u001b[39m\u001b[34;01mpd\u001b[39;00m\n\u001b[32m      3\u001b[39m mydataset={\n\u001b[32m      4\u001b[39m \u001b[33m'\u001b[39m\u001b[33mcars\u001b[39m\u001b[33m'\u001b[39m:[\u001b[33m\"\u001b[39m\u001b[33mbmw\u001b[39m\u001b[33m\"\u001b[39m,\u001b[33m\"\u001b[39m\u001b[33mvolvo\u001b[39m\u001b[33m\"\u001b[39m,\u001b[33m\"\u001b[39m\u001b[33mford\u001b[39m\u001b[33m\"\u001b[39m],\n\u001b[32m      5\u001b[39m  \u001b[33m'\u001b[39m\u001b[33mpassings\u001b[39m\u001b[33m'\u001b[39m:[\u001b[32m3\u001b[39m,\u001b[32m7\u001b[39m,\u001b[32m2\u001b[39m]\n\u001b[32m      6\u001b[39m }\n\u001b[32m----> \u001b[39m\u001b[32m7\u001b[39m myvar=\u001b[43mpd\u001b[49m\u001b[43m.\u001b[49m\u001b[43mdataframe\u001b[49m(mydataset)\n\u001b[32m      8\u001b[39m \u001b[38;5;28mprint\u001b[39m(myvar[\u001b[33m\"\u001b[39m\u001b[33my\u001b[39m\u001b[33m\"\u001b[39m])\n",
      "\u001b[31mAttributeError\u001b[39m: module 'pandas' has no attribute 'dataframe'"
     ]
    }
   ],
   "source": [
    "import pandas as pd\n",
    "\n",
    "mydataset={\n",
    "'cars':[\"bmw\",\"volvo\",\"ford\"],\n",
    " 'passings':[3,7,2]\n",
    "}\n",
    "myvar=pd.dataframe(mydataset)\n",
    "print(myvar[\"y\"])\n",
    "      "
   ]
  },
  {
   "cell_type": "code",
   "execution_count": 24,
   "id": "b6c9a4b8-c12a-43d2-be6f-9f5903ada633",
   "metadata": {},
   "outputs": [
    {
     "ename": "SyntaxError",
     "evalue": "unterminated string literal (detected at line 3) (412909986.py, line 3)",
     "output_type": "error",
     "traceback": [
      "  \u001b[36mCell\u001b[39m\u001b[36m \u001b[39m\u001b[32mIn[24]\u001b[39m\u001b[32m, line 3\u001b[39m\n\u001b[31m    \u001b[39m\u001b[31mline =input(\")\u001b[39m\n                ^\n\u001b[31mSyntaxError\u001b[39m\u001b[31m:\u001b[39m unterminated string literal (detected at line 3)\n"
     ]
    }
   ],
   "source": [
    "counts=diet()\n",
    "print('enter a line of text:')\n",
    "line =input(\")\n",
    "words=line.split()\n",
    "print('words:',words) \n",
    "\n",
    "   print('counting')\n",
    "for word in words:\n",
    "counts[word]=counts.get(word.0)+1\n",
    "print('counts',counts)\n",
    "\n",
    "           "
   ]
  },
  {
   "cell_type": "code",
   "execution_count": 4,
   "id": "127f33e8-8f67-411f-8b24-0db8c03b54ce",
   "metadata": {},
   "outputs": [
    {
     "ename": "AttributeError",
     "evalue": "module 'pandas' has no attribute 'series'",
     "output_type": "error",
     "traceback": [
      "\u001b[31m---------------------------------------------------------------------------\u001b[39m",
      "\u001b[31mAttributeError\u001b[39m                            Traceback (most recent call last)",
      "\u001b[36mCell\u001b[39m\u001b[36m \u001b[39m\u001b[32mIn[4]\u001b[39m\u001b[32m, line 3\u001b[39m\n\u001b[32m      1\u001b[39m \u001b[38;5;28;01mimport\u001b[39;00m\u001b[38;5;250m \u001b[39m\u001b[34;01mpandas\u001b[39;00m\u001b[38;5;250m \u001b[39m\u001b[38;5;28;01mas\u001b[39;00m\u001b[38;5;250m \u001b[39m\u001b[34;01mpd\u001b[39;00m\n\u001b[32m      2\u001b[39m calories={\u001b[33m\"\u001b[39m\u001b[33mday1\u001b[39m\u001b[33m\"\u001b[39m:\u001b[32m420\u001b[39m,\u001b[33m\"\u001b[39m\u001b[33mday2\u001b[39m\u001b[33m\"\u001b[39m:\u001b[32m380\u001b[39m,\u001b[33m\"\u001b[39m\u001b[33mday3\u001b[39m\u001b[33m\"\u001b[39m:\u001b[32m390\u001b[39m}\n\u001b[32m----> \u001b[39m\u001b[32m3\u001b[39m myvar=\u001b[43mpd\u001b[49m\u001b[43m.\u001b[49m\u001b[43mseries\u001b[49m(calories)\n\u001b[32m      4\u001b[39m \u001b[38;5;28mprint\u001b[39m(myvar)\n",
      "\u001b[31mAttributeError\u001b[39m: module 'pandas' has no attribute 'series'"
     ]
    }
   ],
   "source": [
    "import pandas as pd\n",
    "calories={\"day1\":420,\"day2\":380,\"day3\":390}\n",
    "myvar=pd.series(calories)\n",
    "print(myvar)\n"
   ]
  },
  {
   "cell_type": "code",
   "execution_count": null,
   "id": "7c040163-4077-4e13-b9a1-af9d74a436e2",
   "metadata": {},
   "outputs": [
    {
     "name": "stdout",
     "output_type": "stream",
     "text": [
      "enter a line of text: \n"
     ]
    }
   ],
   "source": [
    "counts = dict()\n",
    "print('enter a line of text: ')\n",
    "line= input('')\n",
    "words=line.split()\n",
    "print('word: ',words)\n",
    "\n",
    "print('counting...')\n",
    "for word in words:\n",
    "    counts[word]=counts.get(word,0)+1\n",
    "print('counts',counts)\n",
    "concat_num=''\n",
    "add = 0\n",
    "for word in words: \n",
    "    try: \n",
    "        num = int(word)\n",
    "        add = add + int(word)\n",
    "        concat_num+=word\n",
    "    except: \n",
    "        pass\n",
    "print('concatination of the numbers: ',concat_num)\n",
    "print('additions of the numbers' ,add)\n",
    "\n",
    "special_chars = ['!', '@', '#', '$', '%', '^', '&', '*', '(', ')']\n",
    "special_found = False\n",
    "\n",
    "for word in words:\n",
    "    if word in special_chars:\n",
    "        special_found = True\n",
    "        break\n",
    "\n",
    "if special_found:\n",
    "    print(\" The special characters are present.\")\n",
    "else:\n",
    "    print(\"Special characters are not present.\")\n",
    "    "
   ]
  },
  {
   "cell_type": "code",
   "execution_count": null,
   "id": "785ac769-0894-4a7a-bb1e-7ffaaf845a66",
   "metadata": {},
   "outputs": [],
   "source": []
  }
 ],
 "metadata": {
  "kernelspec": {
   "display_name": "Python 3 (ipykernel)",
   "language": "python",
   "name": "python3"
  },
  "language_info": {
   "codemirror_mode": {
    "name": "ipython",
    "version": 3
   },
   "file_extension": ".py",
   "mimetype": "text/x-python",
   "name": "python",
   "nbconvert_exporter": "python",
   "pygments_lexer": "ipython3",
   "version": "3.13.5"
  }
 },
 "nbformat": 4,
 "nbformat_minor": 5
}
